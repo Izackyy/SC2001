{
 "cells": [
  {
   "cell_type": "code",
   "execution_count": null,
   "id": "24dc308b",
   "metadata": {},
   "outputs": [],
   "source": [
    "import pandas as pd\n",
    "import matplotlib.pyplot as plt\n",
    "\n",
    "# Step 1: Load the data from the CSV file\n",
    "data = pd.read_csv('part_b_fixedV')\n",
    "\n",
    "# Step 2: Plot x against y\n",
    "plt.figure(figsize=(10, 6))\n",
    "plt.plot(data['x'], data['y'], marker='o')\n",
    "\n",
    "# Step 3: Add titles and labels\n",
    "plt.title('Plot of x against y')\n",
    "plt.xlabel('x')\n",
    "plt.ylabel('y')\n",
    "plt.grid()\n",
    "\n",
    "# Step 4: Show the plot\n",
    "plt.tight_layout()  # Adjust layout for better visualization\n",
    "plt.show()\n"
   ]
  }
 ],
 "metadata": {
  "kernelspec": {
   "display_name": "Python 3 (ipykernel)",
   "language": "python",
   "name": "python3"
  },
  "language_info": {
   "codemirror_mode": {
    "name": "ipython",
    "version": 3
   },
   "file_extension": ".py",
   "mimetype": "text/x-python",
   "name": "python",
   "nbconvert_exporter": "python",
   "pygments_lexer": "ipython3",
   "version": "3.11.4"
  }
 },
 "nbformat": 4,
 "nbformat_minor": 5
}
