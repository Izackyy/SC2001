{
 "cells": [
  {
   "cell_type": "code",
   "execution_count": null,
   "id": "acc96970",
   "metadata": {},
   "outputs": [],
   "source": []
  },
  {
   "cell_type": "code",
   "execution_count": 4,
   "id": "0b356e4c",
   "metadata": {},
   "outputs": [],
   "source": [
    "def merge_sort(arr, S):\n",
    "    if len(arr) <= S:\n",
    "        insertion_sort(arr)  # Switch to Insertion Sort for small subarrays\n",
    "    else:\n",
    "        mid = len(arr) // 2\n",
    "        left_half = arr[:mid]\n",
    "        right_half = arr[mid:]\n",
    "        \n",
    "        merge_sort(left_half, S)\n",
    "        merge_sort(right_half, S)\n",
    "        \n",
    "        merge(arr, left_half, right_half)\n",
    "\n",
    "def merge(arr, left_half, right_half):\n",
    "    i = j = k = 0\n",
    "    while i < len(left_half) and j < len(right_half):\n",
    "        if left_half[i] < right_half[j]:\n",
    "            arr[k] = left_half[i]\n",
    "            i += 1\n",
    "        else:\n",
    "            arr[k] = right_half[j]\n",
    "            j += 1\n",
    "        k += 1\n",
    "    while i < len(left_half):\n",
    "        arr[k] = left_half[i]\n",
    "        i += 1\n",
    "        k += 1\n",
    "    while j < len(right_half):\n",
    "        arr[k] = right_half[j]\n",
    "        j += 1\n",
    "        k += 1\n",
    "\n",
    "def insertion_sort(arr):\n",
    "    for i in range(1, len(arr)):\n",
    "        key = arr[i]\n",
    "        j = i - 1\n",
    "        while j >= 0 and key < arr[j]:\n",
    "            arr[j + 1] = arr[j]\n",
    "            j -= 1\n",
    "        arr[j + 1] = key\n"
   ]
  },
  {
   "cell_type": "code",
   "execution_count": 8,
   "id": "f9d514c5",
   "metadata": {},
   "outputs": [],
   "source": [
    "import random\n",
    "\n",
    "def generate_input_data(sizes):\n",
    "    datasets = []\n",
    "    for size in sizes:\n",
    "        arr = [random.randint(1, 1000000) for _ in range(size)]\n",
    "        datasets.append(arr)\n",
    "    return datasets\n",
    "\n",
    "# Example of generating datasets of sizes from 1000 to 10 million\n",
    "sizes = [1000, 10000, 100000, 1000000, 10000000]\n",
    "datasets = generate_input_data(sizes)\n"
   ]
  },
  {
   "cell_type": "code",
   "execution_count": 9,
   "id": "22cf286e",
   "metadata": {},
   "outputs": [],
   "source": [
    "import random\n",
    "\n",
    "def generate_input_data(sizes):\n",
    "    datasets = []\n",
    "    for size in sizes:\n",
    "        arr = [random.randint(1, 1000000) for _ in range(size)]\n",
    "        datasets.append(arr)\n",
    "    return datasets\n",
    "\n",
    "# Example of generating datasets of sizes from 1000 to 10 million\n",
    "sizes = [1000, 10000, 100000, 1000000, 10000000]\n",
    "datasets = generate_input_data(sizes)\n"
   ]
  },
  {
   "cell_type": "code",
   "execution_count": 24,
   "id": "dda17f3f",
   "metadata": {
    "scrolled": false
   },
   "outputs": [
    {
     "data": {
      "text/plain": [
       "5"
      ]
     },
     "execution_count": 24,
     "metadata": {},
     "output_type": "execute_result"
    }
   ],
   "source": [
    "len(datasets)"
   ]
  },
  {
   "cell_type": "code",
   "execution_count": 10,
   "id": "1af8b21b",
   "metadata": {},
   "outputs": [],
   "source": [
    "comparison_count = 0\n",
    "\n",
    "def merge_sort_with_count(arr, S):\n",
    "    global comparison_count\n",
    "    if len(arr) <= S:\n",
    "        insertion_sort_with_count(arr)\n",
    "    else:\n",
    "        mid = len(arr) // 2\n",
    "        left_half = arr[:mid]\n",
    "        right_half = arr[mid:]\n",
    "        \n",
    "        merge_sort_with_count(left_half, S)\n",
    "        merge_sort_with_count(right_half, S)\n",
    "        \n",
    "        merge_with_count(arr, left_half, right_half)\n",
    "\n",
    "def merge_with_count(arr, left_half, right_half):\n",
    "    global comparison_count\n",
    "    i = j = k = 0\n",
    "    while i < len(left_half) and j < len(right_half):\n",
    "        comparison_count += 1\n",
    "        if left_half[i] < right_half[j]:\n",
    "            arr[k] = left_half[i]\n",
    "            i += 1\n",
    "        else:\n",
    "            arr[k] = right_half[j]\n",
    "            j += 1\n",
    "        k += 1\n",
    "    while i < len(left_half):\n",
    "        arr[k] = left_half[i]\n",
    "        i += 1\n",
    "        k += 1\n",
    "    while j < len(right_half):\n",
    "        arr[k] = right_half[j]\n",
    "        j += 1\n",
    "        k += 1\n",
    "\n",
    "def insertion_sort_with_count(arr):\n",
    "    global comparison_count\n",
    "    for i in range(1, len(arr)):\n",
    "        key = arr[i]\n",
    "        j = i - 1\n",
    "        while j >= 0:\n",
    "            comparison_count += 1\n",
    "            if arr[j] > key:\n",
    "                arr[j + 1] = arr[j]\n",
    "                j -= 1\n",
    "            else:\n",
    "                break\n",
    "        arr[j + 1] = key\n"
   ]
  },
  {
   "cell_type": "code",
   "execution_count": 26,
   "id": "7176165f",
   "metadata": {},
   "outputs": [
    {
     "name": "stdout",
     "output_type": "stream",
     "text": [
      "Number of comparisons: 8474144\n",
      "Number of comparisons: 281236476\n",
      "Number of comparisons: 2380446\n",
      "Number of comparisons: 183522\n",
      "Number of comparisons: 13371\n"
     ]
    }
   ],
   "source": [
    "comparison_count = 0\n",
    "merge_sort_with_count(datasets[0], S)  # Choose S and dataset size\n",
    "print(f\"Number of comparisons: {comparison_count}\")\n",
    "\n",
    "comparison_count = 0\n",
    "merge_sort_with_count(datasets[1], S)  # Choose S and dataset size\n",
    "print(f\"Number of comparisons: {comparison_count}\")\n",
    "\n",
    "comparison_count = 0\n",
    "merge_sort_with_count(datasets[2], S)  # Choose S and dataset size\n",
    "print(f\"Number of comparisons: {comparison_count}\")\n",
    "\n",
    "comparison_count = 0\n",
    "merge_sort_with_count(datasets[3], S)  # Choose S and dataset size\n",
    "print(f\"Number of comparisons: {comparison_count}\")\n",
    "\n",
    "comparison_count = 0\n",
    "merge_sort_with_count(datasets[4], S)  # Choose S and dataset size\n",
    "print(f\"Number of comparisons: {comparison_count}\")\n"
   ]
  },
  {
   "cell_type": "code",
   "execution_count": null,
   "id": "1deb89bc",
   "metadata": {},
   "outputs": [],
   "source": []
  }
 ],
 "metadata": {
  "kernelspec": {
   "display_name": "Python 3 (ipykernel)",
   "language": "python",
   "name": "python3"
  },
  "language_info": {
   "codemirror_mode": {
    "name": "ipython",
    "version": 3
   },
   "file_extension": ".py",
   "mimetype": "text/x-python",
   "name": "python",
   "nbconvert_exporter": "python",
   "pygments_lexer": "ipython3",
   "version": "3.11.4"
  }
 },
 "nbformat": 4,
 "nbformat_minor": 5
}
